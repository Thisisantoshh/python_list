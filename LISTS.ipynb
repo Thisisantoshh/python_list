{
  "nbformat": 4,
  "nbformat_minor": 0,
  "metadata": {
    "colab": {
      "provenance": [],
      "authorship_tag": "ABX9TyOT1tbUvd6Fty1pMGjLlYP/",
      "include_colab_link": true
    },
    "kernelspec": {
      "name": "python3",
      "display_name": "Python 3"
    },
    "language_info": {
      "name": "python"
    }
  },
  "cells": [
    {
      "cell_type": "markdown",
      "metadata": {
        "id": "view-in-github",
        "colab_type": "text"
      },
      "source": [
        "<a href=\"https://colab.research.google.com/github/Thisisantoshh/python_list/blob/main/LISTS.ipynb\" target=\"_parent\"><img src=\"https://colab.research.google.com/assets/colab-badge.svg\" alt=\"Open In Colab\"/></a>"
      ]
    },
    {
      "cell_type": "code",
      "execution_count": null,
      "metadata": {
        "id": "6_GGaBxp25lb"
      },
      "outputs": [],
      "source": []
    },
    {
      "cell_type": "code",
      "source": [],
      "metadata": {
        "id": "QW4VNyY94F3F"
      },
      "execution_count": null,
      "outputs": []
    },
    {
      "cell_type": "code",
      "source": [
        "a=100\n",
        "b=200\n",
        "a-b\n",
        "a+b\n",
        "a*b\n",
        "a-b"
      ],
      "metadata": {
        "colab": {
          "base_uri": "https://localhost:8080/"
        },
        "id": "vj__arxk3OTS",
        "outputId": "2ade3a81-3751-4f0f-b16a-94dcdde8e6ec"
      },
      "execution_count": null,
      "outputs": [
        {
          "output_type": "execute_result",
          "data": {
            "text/plain": [
              "-100"
            ]
          },
          "metadata": {},
          "execution_count": 9
        }
      ]
    },
    {
      "cell_type": "code",
      "source": [
        "a=input(\"enter a value\")\n",
        "b=(input(\"enter b value\"))\n",
        "print(a+b)"
      ],
      "metadata": {
        "colab": {
          "base_uri": "https://localhost:8080/"
        },
        "id": "AFmbK0IE3wqk",
        "outputId": "e6b4c637-dd93-4752-9bb6-6019712d50c2"
      },
      "execution_count": null,
      "outputs": [
        {
          "output_type": "stream",
          "name": "stdout",
          "text": [
            "enter a value2.0\n",
            "enter b value2.1\n",
            "2.02.1\n"
          ]
        }
      ]
    },
    {
      "cell_type": "code",
      "source": [
        "a=200\n",
        "b=350\n",
        "c=400\n",
        "print(a>=b and c>a or c>b)\n",
        "print(b>c and b>a or c>=a)"
      ],
      "metadata": {
        "colab": {
          "base_uri": "https://localhost:8080/"
        },
        "id": "gjKiP_i54tw4",
        "outputId": "618d7cf5-506c-4b08-96ce-1c987718e553"
      },
      "execution_count": null,
      "outputs": [
        {
          "output_type": "stream",
          "name": "stdout",
          "text": [
            "True\n",
            "True\n"
          ]
        }
      ]
    },
    {
      "cell_type": "code",
      "source": [
        "x=10\n",
        "b=not x\n",
        "print(b)"
      ],
      "metadata": {
        "colab": {
          "base_uri": "https://localhost:8080/"
        },
        "id": "PCEYuj-w6AeL",
        "outputId": "d274fef2-d460-4e30-9cbf-1fd5084082c6"
      },
      "execution_count": null,
      "outputs": [
        {
          "output_type": "stream",
          "name": "stdout",
          "text": [
            "False\n"
          ]
        }
      ]
    },
    {
      "cell_type": "code",
      "source": [
        "a=2\n",
        "print(a)"
      ],
      "metadata": {
        "colab": {
          "base_uri": "https://localhost:8080/"
        },
        "id": "x7Z_DNIH79Kn",
        "outputId": "d36ea0db-4163-40d4-e542-085195ff3bea"
      },
      "execution_count": null,
      "outputs": [
        {
          "output_type": "stream",
          "name": "stdout",
          "text": [
            "2\n"
          ]
        }
      ]
    },
    {
      "cell_type": "code",
      "source": [
        "a=2\n",
        "for i in range(a):\n",
        "    print(i)"
      ],
      "metadata": {
        "colab": {
          "base_uri": "https://localhost:8080/"
        },
        "id": "5yS9-4-N9Trd",
        "outputId": "d59cd64a-16e6-464a-80b3-4cff338a226e"
      },
      "execution_count": null,
      "outputs": [
        {
          "output_type": "stream",
          "name": "stdout",
          "text": [
            "0\n",
            "1\n"
          ]
        }
      ]
    },
    {
      "cell_type": "code",
      "source": [
        "a=\"machine learning\"\n",
        "a[0]"
      ],
      "metadata": {
        "id": "3P_8RmxvAULQ",
        "colab": {
          "base_uri": "https://localhost:8080/",
          "height": 35
        },
        "outputId": "617286f0-ce21-4b02-c67f-bcb8baed937b"
      },
      "execution_count": null,
      "outputs": [
        {
          "output_type": "execute_result",
          "data": {
            "text/plain": [
              "'m'"
            ],
            "application/vnd.google.colaboratory.intrinsic+json": {
              "type": "string"
            }
          },
          "metadata": {},
          "execution_count": 1
        }
      ]
    },
    {
      "cell_type": "code",
      "source": [
        "a[-2]"
      ],
      "metadata": {
        "colab": {
          "base_uri": "https://localhost:8080/",
          "height": 35
        },
        "id": "kOKBqdnADZJW",
        "outputId": "7607aab1-bb33-4f40-8561-919cb8000100"
      },
      "execution_count": null,
      "outputs": [
        {
          "output_type": "execute_result",
          "data": {
            "text/plain": [
              "'n'"
            ],
            "application/vnd.google.colaboratory.intrinsic+json": {
              "type": "string"
            }
          },
          "metadata": {},
          "execution_count": 2
        }
      ]
    },
    {
      "cell_type": "code",
      "source": [
        "a[:7:3]"
      ],
      "metadata": {
        "colab": {
          "base_uri": "https://localhost:8080/",
          "height": 35
        },
        "id": "S9BwDFOvDepn",
        "outputId": "ade4ad6f-cfbf-4b22-afc2-d7edc5fbe2f7"
      },
      "execution_count": null,
      "outputs": [
        {
          "output_type": "execute_result",
          "data": {
            "text/plain": [
              "'mhe'"
            ],
            "application/vnd.google.colaboratory.intrinsic+json": {
              "type": "string"
            }
          },
          "metadata": {},
          "execution_count": 6
        }
      ]
    },
    {
      "cell_type": "code",
      "source": [
        "a[::-1]"
      ],
      "metadata": {
        "colab": {
          "base_uri": "https://localhost:8080/",
          "height": 35
        },
        "id": "AlolIGZDDsRZ",
        "outputId": "64220de4-4e2c-4b82-f1b7-fef231e40a73"
      },
      "execution_count": null,
      "outputs": [
        {
          "output_type": "execute_result",
          "data": {
            "text/plain": [
              "'gninrael enihcam'"
            ],
            "application/vnd.google.colaboratory.intrinsic+json": {
              "type": "string"
            }
          },
          "metadata": {},
          "execution_count": 12
        }
      ]
    },
    {
      "cell_type": "code",
      "source": [
        "m=['accuracy','precision','recall','f1score','auc_roc_score']\n",
        "m[1:-3]"
      ],
      "metadata": {
        "id": "lorqOTjiFt-l",
        "colab": {
          "base_uri": "https://localhost:8080/"
        },
        "outputId": "d6f4dcc2-49d1-4ac9-83dc-723600caced0"
      },
      "execution_count": null,
      "outputs": [
        {
          "output_type": "execute_result",
          "data": {
            "text/plain": [
              "['precision']"
            ]
          },
          "metadata": {},
          "execution_count": 5
        }
      ]
    },
    {
      "cell_type": "code",
      "source": [
        "m[0:4:2]"
      ],
      "metadata": {
        "colab": {
          "base_uri": "https://localhost:8080/"
        },
        "id": "tkAyUSUzy8jY",
        "outputId": "8c62fa27-8334-402f-f03e-808768a20ab4"
      },
      "execution_count": null,
      "outputs": [
        {
          "output_type": "execute_result",
          "data": {
            "text/plain": [
              "['accuracy', 'recall']"
            ]
          },
          "metadata": {},
          "execution_count": 6
        }
      ]
    },
    {
      "cell_type": "code",
      "source": [
        "m[:4:-1]"
      ],
      "metadata": {
        "colab": {
          "base_uri": "https://localhost:8080/"
        },
        "id": "rXiso2jtzkJu",
        "outputId": "9011c5ae-0979-4a56-fdee-33583f7a885e"
      },
      "execution_count": null,
      "outputs": [
        {
          "output_type": "execute_result",
          "data": {
            "text/plain": [
              "[]"
            ]
          },
          "metadata": {},
          "execution_count": 7
        }
      ]
    },
    {
      "cell_type": "code",
      "source": [
        "m+[\"other metrics\"]"
      ],
      "metadata": {
        "colab": {
          "base_uri": "https://localhost:8080/"
        },
        "id": "wltxi8UIz1ot",
        "outputId": "5c4a024f-ae71-41f4-c94f-07233832c475"
      },
      "execution_count": null,
      "outputs": [
        {
          "output_type": "execute_result",
          "data": {
            "text/plain": [
              "['accuracy',\n",
              " 'precision',\n",
              " 'recall',\n",
              " 'f1score',\n",
              " 'auc_roc_score',\n",
              " 'other metrics']"
            ]
          },
          "metadata": {},
          "execution_count": 8
        }
      ]
    },
    {
      "cell_type": "code",
      "source": [
        "m.extend([\"gamechanger\"])"
      ],
      "metadata": {
        "id": "JdehRLLQ3Gd-"
      },
      "execution_count": null,
      "outputs": []
    },
    {
      "cell_type": "code",
      "source": [
        "print(m)"
      ],
      "metadata": {
        "colab": {
          "base_uri": "https://localhost:8080/"
        },
        "id": "ITBFq-_M38hd",
        "outputId": "355ce1b2-00d6-46c7-bffe-b64652e09288"
      },
      "execution_count": null,
      "outputs": [
        {
          "output_type": "stream",
          "name": "stdout",
          "text": [
            "['accuracy', 'precision', 'recall', 'f1score', 'auc_roc_score', 'g', 'a', 'm', 'e', 'c', 'h', 'y', 'a', 'n', 'g', 'e', 'r', 'g', 'a', 'm', 'e', 'c', 'h', 'a', 'n', 'g', 'e', 'r', 'g', 'a', 'm', 'e', 'c', 'h', 'a', 'n', 'g', 'e', 'r', 'gamechanger']\n"
          ]
        }
      ]
    },
    {
      "cell_type": "code",
      "source": [
        "m.insert(5,\"Daaku\")\n",
        "print(m)"
      ],
      "metadata": {
        "colab": {
          "base_uri": "https://localhost:8080/"
        },
        "id": "U4eT9ac84BSb",
        "outputId": "092f391c-fab3-476f-b4e2-a7d677d0bdaa"
      },
      "execution_count": null,
      "outputs": [
        {
          "output_type": "stream",
          "name": "stdout",
          "text": [
            "['accuracy', 'precision', 'recall', 'f1score', 'auc_roc_score', 'Daaku', 'g', 'a', 'Daaku', 'm', 'e', 'c', 'h', 'y', 'a', 'n', 'g', 'e', 'r', 'Daaku', 'Daaku', 'g', 'a', 'm', 'e', 'c', 'h', 'a', 'n', 'g', 'e', 'r', 'g', 'a', 'm', 'e', 'c', 'h', 'a', 'n', 'g', 'e', 'r']\n"
          ]
        }
      ]
    },
    {
      "cell_type": "code",
      "source": [
        "print(m)"
      ],
      "metadata": {
        "colab": {
          "base_uri": "https://localhost:8080/"
        },
        "id": "2SC7UcJT4qOt",
        "outputId": "8d3fbaa6-15d6-4d14-c849-b7584db78a59"
      },
      "execution_count": null,
      "outputs": [
        {
          "output_type": "stream",
          "name": "stdout",
          "text": [
            "['accuracy', 'precision', 'recall', 'f1score', 'auc_roc_score', 'Daaku', 'g', 'a', 'Daaku', 'm', 'e', 'c', 'h', 'y', 'a', 'n', 'g', 'e', 'r', 'Daaku', 'Daaku', 'g', 'a', 'm', 'e', 'c', 'h', 'a', 'n', 'g', 'e', 'r', 'g', 'a', 'm', 'e', 'c', 'h', 'a', 'n', 'g', 'e', 'r']\n"
          ]
        }
      ]
    },
    {
      "cell_type": "code",
      "source": [
        "m.remove('Daaku')"
      ],
      "metadata": {
        "id": "vgWhF-lm49jc"
      },
      "execution_count": null,
      "outputs": []
    },
    {
      "cell_type": "code",
      "source": [
        "m.remove('Daaku')"
      ],
      "metadata": {
        "id": "Lb1IP7xX5DMr"
      },
      "execution_count": null,
      "outputs": []
    },
    {
      "cell_type": "code",
      "source": [
        "m"
      ],
      "metadata": {
        "colab": {
          "base_uri": "https://localhost:8080/"
        },
        "id": "SGq-Rc0N5GRK",
        "outputId": "f12734c5-baf7-4f46-f1c5-dde1ef3b3821"
      },
      "execution_count": null,
      "outputs": [
        {
          "output_type": "execute_result",
          "data": {
            "text/plain": [
              "['accuracy',\n",
              " 'precision',\n",
              " 'recall',\n",
              " 'f1score',\n",
              " 'auc_roc_score',\n",
              " 'g',\n",
              " 'a',\n",
              " 'm',\n",
              " 'e',\n",
              " 'c',\n",
              " 'h',\n",
              " 'y',\n",
              " 'a',\n",
              " 'n',\n",
              " 'g',\n",
              " 'e',\n",
              " 'r',\n",
              " 'g',\n",
              " 'a',\n",
              " 'm',\n",
              " 'e',\n",
              " 'c',\n",
              " 'h',\n",
              " 'a',\n",
              " 'n',\n",
              " 'g',\n",
              " 'e',\n",
              " 'r',\n",
              " 'g',\n",
              " 'a',\n",
              " 'm',\n",
              " 'e',\n",
              " 'c',\n",
              " 'h',\n",
              " 'a',\n",
              " 'n',\n",
              " 'g',\n",
              " 'e',\n",
              " 'r']"
            ]
          },
          "metadata": {},
          "execution_count": 31
        }
      ]
    },
    {
      "cell_type": "code",
      "source": [
        "len(m)"
      ],
      "metadata": {
        "colab": {
          "base_uri": "https://localhost:8080/"
        },
        "id": "yzz4sDVh5K7L",
        "outputId": "947eacfa-2367-4fce-b180-aa05bcecadd3"
      },
      "execution_count": null,
      "outputs": [
        {
          "output_type": "execute_result",
          "data": {
            "text/plain": [
              "39"
            ]
          },
          "metadata": {},
          "execution_count": 32
        }
      ]
    },
    {
      "cell_type": "code",
      "source": [
        "a=[1,2,3,4]\n",
        "b=[4,5,6,]\n",
        "c=[7,8,9]\n",
        "l1=zip(a,b,c)\n",
        "print (list((l1)))\n"
      ],
      "metadata": {
        "colab": {
          "base_uri": "https://localhost:8080/"
        },
        "id": "9wVsa6Bq5Xub",
        "outputId": "57a72da5-1e80-49eb-f1b3-48b11ac3c7ae"
      },
      "execution_count": null,
      "outputs": [
        {
          "output_type": "stream",
          "name": "stdout",
          "text": [
            "[(1, 4, 7), (2, 5, 8), (3, 6, 9)]\n"
          ]
        }
      ]
    },
    {
      "cell_type": "code",
      "source": [
        "a=[4,5,6]\n",
        "list(enumerate(a))"
      ],
      "metadata": {
        "colab": {
          "base_uri": "https://localhost:8080/"
        },
        "id": "hO5T6s3X54v6",
        "outputId": "7417e90c-6d1f-49b2-ed6f-3940c864a50f"
      },
      "execution_count": null,
      "outputs": [
        {
          "output_type": "execute_result",
          "data": {
            "text/plain": [
              "[(0, 4), (1, 5), (2, 6)]"
            ]
          },
          "metadata": {},
          "execution_count": 41
        }
      ]
    },
    {
      "cell_type": "code",
      "source": [
        "sort1=[2,3,4,5,3,32,32323]\n",
        "sort1.sort()\n",
        "print(sort1)"
      ],
      "metadata": {
        "colab": {
          "base_uri": "https://localhost:8080/"
        },
        "id": "E72LP5Jw7L4a",
        "outputId": "41b2f4c6-e58c-4e50-d8dd-22a96e4179a0"
      },
      "execution_count": null,
      "outputs": [
        {
          "output_type": "stream",
          "name": "stdout",
          "text": [
            "[2, 3, 3, 4, 5, 32, 32323]\n"
          ]
        }
      ]
    },
    {
      "cell_type": "code",
      "source": [
        "sort2=[2,3,4,5,3,32,32323]\n",
        "\n",
        "print(sorted(sort2))\n",
        "print(sort2)"
      ],
      "metadata": {
        "colab": {
          "base_uri": "https://localhost:8080/"
        },
        "id": "rJIsFFJ37n7Z",
        "outputId": "8e0a9da7-2ca8-4241-dc47-1954652e6e7c"
      },
      "execution_count": null,
      "outputs": [
        {
          "output_type": "stream",
          "name": "stdout",
          "text": [
            "[2, 3, 3, 4, 5, 32, 32323]\n",
            "[2, 3, 4, 5, 3, 32, 32323]\n"
          ]
        }
      ]
    },
    {
      "cell_type": "code",
      "source": [
        "tup1=(1,2,3,4,5,6)\n",
        "print(tup1)"
      ],
      "metadata": {
        "colab": {
          "base_uri": "https://localhost:8080/"
        },
        "id": "NpyVjChm7rx6",
        "outputId": "1ffaed9c-0530-461e-c24e-3e17243589d5"
      },
      "execution_count": null,
      "outputs": [
        {
          "output_type": "stream",
          "name": "stdout",
          "text": [
            "(1, 2, 3, 4, 5, 6)\n"
          ]
        }
      ]
    },
    {
      "cell_type": "code",
      "source": [
        "tup1[3]"
      ],
      "metadata": {
        "colab": {
          "base_uri": "https://localhost:8080/"
        },
        "id": "Z58p79tT8Wdp",
        "outputId": "3bfb6c8a-5aba-4249-a8fe-0bde0faffa79"
      },
      "execution_count": null,
      "outputs": [
        {
          "output_type": "execute_result",
          "data": {
            "text/plain": [
              "4"
            ]
          },
          "metadata": {},
          "execution_count": 52
        }
      ]
    },
    {
      "cell_type": "code",
      "source": [
        "d=set()\n",
        "print(type(d))"
      ],
      "metadata": {
        "colab": {
          "base_uri": "https://localhost:8080/"
        },
        "id": "qLnDY1fu8gSY",
        "outputId": "489e150a-4a75-4b56-fa07-08631eab4121"
      },
      "execution_count": null,
      "outputs": [
        {
          "output_type": "stream",
          "name": "stdout",
          "text": [
            "<class 'set'>\n"
          ]
        }
      ]
    },
    {
      "cell_type": "code",
      "source": [
        "my_dict={\"a\":1,\"b\":2}\n",
        "del my_dict[\"a\"]\n",
        "print(my_dict)"
      ],
      "metadata": {
        "id": "MjfXp6Bu-TQY",
        "colab": {
          "base_uri": "https://localhost:8080/"
        },
        "outputId": "34939dc6-15fc-454e-92ce-8a1ad21c3a37"
      },
      "execution_count": 2,
      "outputs": [
        {
          "output_type": "stream",
          "name": "stdout",
          "text": [
            "{'b': 2}\n"
          ]
        }
      ]
    },
    {
      "cell_type": "code",
      "source": [
        "my_dict"
      ],
      "metadata": {
        "id": "DYU5hgwjjhjm"
      },
      "execution_count": null,
      "outputs": []
    }
  ]
}